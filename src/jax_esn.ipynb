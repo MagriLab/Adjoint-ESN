{
 "cells": [
  {
   "cell_type": "code",
   "execution_count": 1,
   "metadata": {},
   "outputs": [],
   "source": [
    "import numpy as np\n",
    "import jax.numpy as jnp\n",
    "from jax import grad, jit, vmap\n",
    "from jax import random\n",
    "from scipy.sparse.linalg import eigs as sparse_eigs\n",
    "\n",
    "import sys\n",
    "import os\n",
    "sys.path.append('..')\n",
    "from adjoint_esn.esn import ESN\n",
    "from adjoint_esn.jax_esn import JAXESN"
   ]
  },
  {
   "cell_type": "code",
   "execution_count": 2,
   "metadata": {},
   "outputs": [],
   "source": [
    "scale = np.array([[2.0,3.0,4.0],[8.0,5.0,3.0]])\n",
    "input_bias = 0.5"
   ]
  },
  {
   "cell_type": "code",
   "execution_count": 3,
   "metadata": {},
   "outputs": [
    {
     "name": "stdout",
     "output_type": "stream",
     "text": [
      "Input normalization is changed, training must be done again.\n",
      "Parameter normalization is changed, training must be done again.\n",
      "Input scaling is set to 1, set it separately if necessary.\n",
      "Input weights are rescaled with the new input scaling.\n",
      "Spectral radius is set to 1, set it separately if necessary.\n",
      "Reservoir weights are rescaled with the new spectral radius.\n"
     ]
    }
   ],
   "source": [
    "my_ESN = ESN(reservoir_size = 1000, dimension = 3, parameter_dimension = 1, reservoir_connectivity = 3, \n",
    "                input_scaling = 4.00943288, spectral_radius = 0.13390513,\n",
    "                leak_factor = 1.0, input_bias = input_bias, input_normalization = scale, parameter_normalization=[np.array([5.17175175]),np.array(5.51759002)],\n",
    "                input_seeds=[0,1,2],reservoir_seeds=[3,4],)"
   ]
  },
  {
   "cell_type": "code",
   "execution_count": 4,
   "metadata": {},
   "outputs": [
    {
     "name": "stdout",
     "output_type": "stream",
     "text": [
      "Input normalization is changed, training must be done again.\n",
      "Parameter normalization is changed, training must be done again.\n",
      "Input scaling is set to 1, set it separately if necessary.\n",
      "Input weight generation 0.2573356628417969\n",
      "Input weights are rescaled with the new input scaling.\n",
      "Spectral radius is set to 1, set it separately if necessary.\n",
      "Reservoir weight generation 0.3530547618865967\n",
      "Reservoir weights are rescaled with the new spectral radius.\n"
     ]
    }
   ],
   "source": [
    "my_JAXESN = JAXESN(reservoir_size = 1000, dimension = 3, parameter_dimension = 1, reservoir_connectivity = 3, \n",
    "                input_scaling = 4.00943288, spectral_radius = 0.13390513,\n",
    "                leak_factor = 1.0, input_bias = input_bias, input_normalization = scale, parameter_normalization=jnp.array([[5.17175175],[5.51759002]]),\n",
    "                input_seeds=[0,1,2],reservoir_seeds=[3,4],)"
   ]
  },
  {
   "cell_type": "code",
   "execution_count": 5,
   "metadata": {},
   "outputs": [
    {
     "name": "stdout",
     "output_type": "stream",
     "text": [
      "ESN sparse scipy step\n",
      "67 µs ± 3.83 µs per loop (mean ± std. dev. of 7 runs, 10,000 loops each)\n",
      "JAX ESN step\n",
      "45.2 ms ± 4.45 ms per loop (mean ± std. dev. of 7 runs, 1 loop each)\n",
      "Jitted JAX ESN step\n",
      "487 µs ± 39.2 µs per loop (mean ± std. dev. of 7 runs, 1,000 loops each)\n"
     ]
    }
   ],
   "source": [
    "x_prev = np.ones(1000)\n",
    "u = 0.1*np.ones(3)\n",
    "p = 3.0\n",
    "print(\"ESN sparse scipy step\")\n",
    "%timeit my_ESN.step(x_prev, u, p)\n",
    "# regular np dot is much slower\n",
    "\n",
    "x_prev = jnp.ones(1000)\n",
    "u = 0.1*jnp.ones(3)\n",
    "p = 3.0\n",
    "print(\"JAX ESN step\")\n",
    "%timeit my_JAXESN.step(x_prev, u, p).block_until_ready()\n",
    "\n",
    "\n",
    "x_prev = jnp.ones(1000)\n",
    "u = 0.1*jnp.ones(3)\n",
    "p = 3.0\n",
    "step_jit = jit(my_JAXESN.step)\n",
    "step_jit(x_prev, u, p)\n",
    "print(\"Jitted JAX ESN step\")\n",
    "%timeit step_jit(x_prev,u,p).block_until_ready()\n"
   ]
  },
  {
   "cell_type": "code",
   "execution_count": 7,
   "metadata": {},
   "outputs": [
    {
     "name": "stdout",
     "output_type": "stream",
     "text": [
      "ESN sparse scipy open-loop\n",
      "5.93 ms ± 295 µs per loop (mean ± std. dev. of 7 runs, 100 loops each)\n",
      "Jitted JAX ESN open-loop\n",
      "381 ms ± 12.3 ms per loop (mean ± std. dev. of 7 runs, 1 loop each)\n"
     ]
    }
   ],
   "source": [
    "x0 = np.ones(1000)\n",
    "U = 0.1*np.ones((100,3))\n",
    "P = 3.0*np.ones((100,1))\n",
    "print(\"ESN sparse scipy open-loop\")\n",
    "%timeit my_ESN.open_loop(x0, U, P)\n",
    "\n",
    "x0 = jnp.ones(1000)\n",
    "U = 0.1*jnp.ones((100,3))\n",
    "P = 3.0*jnp.ones((100,1))\n",
    "print(\"Jitted JAX ESN open-loop\")\n",
    "my_JAXESN.open_loop(x0, U, P)\n",
    "%timeit my_JAXESN.open_loop(x0, U, P).block_until_ready()"
   ]
  },
  {
   "cell_type": "code",
   "execution_count": null,
   "metadata": {},
   "outputs": [],
   "source": [
    "# @TODO: jnp.einsum, oe.contract instead of double dot\n",
    "def run_esn_grad_adj(my_ESN, X_pred_grad, N_t):\n",
    "    # calculate gradient for a timeseries, adjoint method\n",
    "    # time averaged objective\n",
    "    X_pred_aug = jnp.hstack((X_pred_grad[N_t - 1, :], my_ESN.b_out))\n",
    "    v_prev = (\n",
    "        (1 / N_t)\n",
    "        * 1\n",
    "        / 2\n",
    "        * jnp.dot(\n",
    "            jnp.dot(X_pred_aug, my_ESN.W_out), my_ESN.W_out[: my_ESN.N_reservoir, :].T\n",
    "        ).T\n",
    "    )\n",
    "    dJ_dp_adj = jnp.zeros(my_ESN.N_param_dim)\n",
    "    for i in jnp.arange(N_t - 1, 0, -1):\n",
    "        dJ_dp_adj += jnp.dot(my_ESN.drdp(X_pred_grad[i, :]).T, v_prev)\n",
    "        X_pred_aug = jnp.hstack((X_pred_grad[i - 1, :], my_ESN.b_out))\n",
    "        dJ_dr = (\n",
    "            (1 / N_t)\n",
    "            * 1\n",
    "            / 2\n",
    "            * jnp.dot(\n",
    "                jnp.dot(X_pred_aug, my_ESN.W_out),\n",
    "                my_ESN.W_out[: my_ESN.N_reservoir, :].T,\n",
    "            ).T\n",
    "        )\n",
    "        v = jnp.dot(my_ESN.jac(X_pred_grad[i, :]).T, v_prev) + dJ_dr\n",
    "        v_prev = v\n",
    "    return dJ_dp_adj"
   ]
  }
 ],
 "metadata": {
  "kernelspec": {
   "display_name": "esn_env",
   "language": "python",
   "name": "python3"
  },
  "language_info": {
   "codemirror_mode": {
    "name": "ipython",
    "version": 3
   },
   "file_extension": ".py",
   "mimetype": "text/x-python",
   "name": "python",
   "nbconvert_exporter": "python",
   "pygments_lexer": "ipython3",
   "version": "3.9.16"
  },
  "orig_nbformat": 4
 },
 "nbformat": 4,
 "nbformat_minor": 2
}
