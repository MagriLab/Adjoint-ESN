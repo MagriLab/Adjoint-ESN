{
 "cells": [
  {
   "cell_type": "code",
   "execution_count": 1,
   "metadata": {},
   "outputs": [],
   "source": [
    "import sys\n",
    "sys.path.append('..')\n",
    "\n",
    "import numpy as np\n",
    "import matplotlib.pyplot as plt\n",
    "from adjoint_esn.utils import preprocessing as pp\n",
    "from adjoint_esn.utils.enums import eParam, get_eVar\n",
    "from pathlib import Path\n",
    "from adjoint_esn.utils import errors\n",
    "import yaml\n",
    "from adjoint_esn.validation import loop\n",
    "from adjoint_esn.utils import scalers"
   ]
  },
  {
   "cell_type": "code",
   "execution_count": 2,
   "metadata": {},
   "outputs": [],
   "source": [
    "def load_config(experiment_path):\n",
    "       with open(experiment_path/'config.yml', 'r') as file:\n",
    "         config = yaml.unsafe_load(file)\n",
    "         return config\n",
    "experiment_path=Path('../local_results/rijke/run_20231029_153121_noise_10_new') \n",
    "config = load_config(experiment_path)\n",
    "results = pp.unpickle_file(experiment_path / 'results.pickle')[0]"
   ]
  },
  {
   "cell_type": "code",
   "execution_count": 13,
   "metadata": {},
   "outputs": [],
   "source": [
    "integrator = 'odeint'\n",
    "\n",
    "# number of galerkin modes\n",
    "N_g = config.simulation.N_g\n",
    "\n",
    "# simulation options\n",
    "sim_dt = config.simulation.sim_dt\n",
    "\n",
    "# directory to search for simulation data, if the data doesn't exist, \n",
    "# then it will simulate the system\n",
    "data_dir=Path('..\\data')\n",
    "\n",
    "# which regimes to use for training and validation\n",
    "train_param_list = results[\"training_parameters\"]\n",
    "val_param_list = results[\"validation_parameters\"]\n",
    "train_random_seeds = results[\"training_random_seeds\"]\n",
    "val_random_seeds = results[\"validation_random_seeds\"]\n",
    "\n",
    "train_idx_list = np.arange(len(train_param_list))\n",
    "val_idx_list = np.arange(len(train_param_list),len(train_param_list)+len(val_param_list))\n",
    "\n",
    "transient_time = config.simulation.transient_time\n",
    "\n",
    "noise_level = config.simulation.noise_level\n",
    "noise_std = 0.0\n",
    "random_seed = config.random_seed\n",
    "\n",
    "# network time step\n",
    "network_dt = config.model.network_dt\n",
    "\n",
    "washout_time = config.model.washout_time\n",
    "\n",
    "# which states to use as input and output\n",
    "# for standard ESN these should be the same, e.g. both 'eta_mu'\n",
    "# for Rijke ESN, input and output should be 'eta_mu_v_tau' and 'eta_mu' respectively\n",
    "input_vars = config.model.input_vars\n",
    "eInputVar = get_eVar(input_vars,N_g)\n",
    "output_vars = config.model.output_vars\n",
    "eOutputVar = get_eVar(output_vars,N_g)\n",
    "\n",
    "# which system parameter is passed to the ESN\n",
    "param_vars=config.model.param_vars\n",
    "\n",
    "# if using Rijke ESN what is the order of u_f(t-tau) in the inputs,\n",
    "# [u_f(t-tau), u_f(t-tau)^2 ..., u_f(t-tau)^(u_f_order)]\n",
    "u_f_order = config.model.u_f_order\n",
    "\n",
    "# length of training time series\n",
    "train_time = config.train.time\n",
    "val_time = config.val.time\n",
    "\n",
    "loop_names=['train','val']\n",
    "loop_times = [train_time,val_time]\n",
    "sim_time = config.simulation.sim_time #transient_time + 2*washout_time + train_time + val_time\n",
    "\n",
    "DATA = {}\n",
    "for loop_name in loop_names:\n",
    "    DATA[loop_name]={'u_washout':[],'p_washout':[],'u':[],'p':[],'y':[],'t':[]}\n",
    "\n",
    "\n",
    "full_list = np.vstack([train_param_list,val_param_list])\n",
    "full_random_seeds = [*train_random_seeds,*val_random_seeds]\n",
    "for p_idx, p in enumerate(full_list):\n",
    "    p_sim = {'beta':p[eParam.beta], 'tau':p[eParam.tau]}\n",
    "    y_sim, t_sim = pp.load_data(beta=p_sim[\"beta\"],tau=p_sim[\"tau\"],x_f=0.2,N_g=N_g,\n",
    "                                sim_time=sim_time,sim_dt=sim_dt,\n",
    "                                data_dir=data_dir,integrator=integrator)\n",
    "\n",
    "    regime_data = pp.create_dataset(y_sim,t_sim,p_sim,\n",
    "                        network_dt=network_dt,\n",
    "                        transient_time=transient_time,\n",
    "                        washout_time=washout_time,\n",
    "                        loop_times=loop_times,\n",
    "                        loop_names=loop_names,\n",
    "                        input_vars=input_vars,\n",
    "                        output_vars=output_vars,\n",
    "                        param_vars=param_vars,\n",
    "                        N_g=N_g,\n",
    "                        u_f_order=u_f_order,\n",
    "                        noise_level=noise_level,\n",
    "                        noise_std=noise_std,\n",
    "                        random_seed=full_random_seeds[p_idx],\n",
    "                        tau=p_sim[\"tau\"],\n",
    "                        )\n",
    "    for loop_name in loop_names:\n",
    "        [DATA[loop_name][var].append(regime_data[loop_name][var]) for var in DATA[loop_name].keys()]\n",
    "\n",
    "# dimension of the inputs\n",
    "dim = DATA[\"train\"][\"u\"][0].shape[1]\n"
   ]
  },
  {
   "cell_type": "code",
   "execution_count": 16,
   "metadata": {},
   "outputs": [],
   "source": [
    "N_washout = pp.get_steps(config.model.washout_time, config.model.network_dt)\n",
    "N_val = pp.get_steps(config.val.fold_time, config.model.network_dt)\n",
    "# N_val = pp.get_steps(config.train.time, config.model.network_dt)\n",
    "N_transient = 0\n",
    "n_param = len(config.model.param_vars)\n",
    "\n",
    "ESN_dict = {\n",
    "    \"reservoir_size\": config.model.reservoir_size,\n",
    "    \"parameter_dimension\": n_param,\n",
    "    \"reservoir_connectivity\": config.model.connectivity,\n",
    "    \"r2_mode\": config.model.r2_mode,\n",
    "    \"input_only_mode\": config.model.input_only_mode,\n",
    "    \"input_weights_mode\": config.model.input_weights_mode,\n",
    "    \"reservoir_weights_mode\": config.model.reservoir_weights_mode,\n",
    "    \"tikhonov\": results[\"tikhonov\"][0],\n",
    "    \"leak_factor\": results[\"leak_factor\"][0],\n",
    "    \"input_scaling\": results[\"input_scaling\"][0],\n",
    "    \"u_f_scaling\": results[\"u_f_scaling\"][0],\n",
    "    \"parameter_normalization\": [results[\"parameter_normalization_mean\"][0],results[\"parameter_normalization_var\"][0]],\n",
    "    \"spectral_radius\": results[\"spectral_radius\"][0]\n",
    "}\n",
    "if config.model.type == \"standard\":\n",
    "    ESN_dict[\"dimension\"] = dim\n",
    "elif config.model.type == \"rijke\":\n",
    "    ESN_dict[\"N_g\"] = config.simulation.N_g\n",
    "    ESN_dict[\"x_f\"] = 0.2\n",
    "    ESN_dict[\"dt\"] = config.model.network_dt\n",
    "    ESN_dict[\"u_f_order\"] = config.model.u_f_order\n"
   ]
  },
  {
   "cell_type": "code",
   "execution_count": 31,
   "metadata": {},
   "outputs": [
    {
     "name": "stdout",
     "output_type": "stream",
     "text": [
      "[-7.  -6.5 -6.  -5.5 -5.  -4.5 -4.  -3.5 -3.  -2.5 -2.  -1.5 -1.  -0.5\n",
      "  0. ]\n"
     ]
    }
   ],
   "source": [
    "tikh_in = 1e-7\n",
    "tikh_end = 1\n",
    "grid_range = [[tikh_in, tikh_end]]\n",
    "hyp_param_names = ['tikhonov']\n",
    "# scales, uniform or log10\n",
    "hyp_param_scales = ['log10']\n",
    "\n",
    "for i in range(len(grid_range)):\n",
    "    for j in range(2):\n",
    "        scaler = getattr(scalers, hyp_param_scales[i])\n",
    "        grid_range[i][j] = scaler(grid_range[i][j])\n",
    "\n",
    "tikhs = np.linspace(grid_range[0][0],grid_range[0][1],15)\n",
    "err_train = np.zeros(len(tikhs))\n",
    "err_val = np.zeros(len(tikhs))\n",
    "print(tikhs)\n",
    "# for tikh_idx, tikh in enumerate(tikhs):\n",
    "#     params = [tikh]\n",
    "#     err_train[tikh_idx] = loop(\n",
    "#         params,\n",
    "#         hyp_param_names,\n",
    "#         hyp_param_scales,\n",
    "#         ESN_dict,\n",
    "#         U_washout_train=DATA[\"train\"][\"u_washout\"],\n",
    "#         U_train=DATA[\"train\"][\"u\"],\n",
    "#         U_val=DATA[\"val\"][\"u\"],\n",
    "#         Y_train=DATA[\"train\"][\"y\"],\n",
    "#         Y_val=DATA[\"val\"][\"y\"],\n",
    "#         n_folds=config.val.n_folds,\n",
    "#         n_realisations=1, #config.val.n_realisations,\n",
    "#         N_washout=N_washout,\n",
    "#         N_val=N_val,\n",
    "#         N_trans=N_transient,\n",
    "#         P_washout_train=DATA[\"train\"][\"p_washout\"],\n",
    "#         P_train=DATA[\"train\"][\"p\"],\n",
    "#         P_val=DATA[\"val\"][\"p\"],\n",
    "#         train_idx_list=train_idx_list,\n",
    "#         val_idx_list=train_idx_list,\n",
    "#         p_list=full_list,\n",
    "#         ESN_type=\"rijke\",  # \"standard\" or \"rijke\"\n",
    "#         error_measure=getattr(errors, config.val.error_measure),\n",
    "#         LT=None,  # only needed if error measure predictability horizon\n",
    "#         network_dt=None,  # only needed if error measure predictability horizon\n",
    "#     )\n",
    "\n",
    "# for tikh_idx, tikh in enumerate(tikhs):\n",
    "#     params = [tikh]\n",
    "#     err_val[tikh_idx] = loop(\n",
    "#         params,\n",
    "#         hyp_param_names,\n",
    "#         hyp_param_scales,\n",
    "#         ESN_dict,\n",
    "#         U_washout_train=DATA[\"train\"][\"u_washout\"],\n",
    "#         U_train=DATA[\"train\"][\"u\"],\n",
    "#         U_val=DATA[\"val\"][\"u\"],\n",
    "#         Y_train=DATA[\"train\"][\"y\"],\n",
    "#         Y_val=DATA[\"val\"][\"y\"],\n",
    "#         n_folds=20, #config.val.n_folds,\n",
    "#         n_realisations=config.val.n_realisations,\n",
    "#         N_washout=N_washout,\n",
    "#         N_val=N_val,\n",
    "#         N_trans=N_transient,\n",
    "#         P_washout_train=DATA[\"train\"][\"p_washout\"],\n",
    "#         P_train=DATA[\"train\"][\"p\"],\n",
    "#         P_val=DATA[\"val\"][\"p\"],\n",
    "#         train_idx_list=train_idx_list,\n",
    "#         val_idx_list=val_idx_list,\n",
    "#         p_list=full_list,\n",
    "#         ESN_type=\"rijke\",  # \"standard\" or \"rijke\"\n",
    "#         error_measure=getattr(errors, config.val.error_measure),\n",
    "#         LT=None,  # only needed if error measure predictability horizon\n",
    "#         network_dt=None,  # only needed if error measure predictability horizon\n",
    "    # )"
   ]
  },
  {
   "cell_type": "code",
   "execution_count": 14,
   "metadata": {},
   "outputs": [
    {
     "data": {
      "text/plain": [
       "[<matplotlib.lines.Line2D at 0x1cf32a5e6a0>]"
      ]
     },
     "execution_count": 14,
     "metadata": {},
     "output_type": "execute_result"
    },
    {
     "data": {
      "image/png": "[encoded data removed]",
      "text/plain": [
       "<Figure size 640x480 with 1 Axes>"
      ]
     },
     "metadata": {},
     "output_type": "display_data"
    }
   ],
   "source": [
    "# plt.plot(tikhs, err_train)\n",
    "plt.plot(tikhs, err_val)"
   ]
  },
  {
   "cell_type": "code",
   "execution_count": null,
   "metadata": {},
   "outputs": [],
   "source": [
    "plt.plot(tikhs, err_val)"
   ]
  },
  {
   "cell_type": "code",
   "execution_count": 3,
   "metadata": {},
   "outputs": [],
   "source": [
    "err_dict = pp.unpickle_file(experiment_path/'error_val_results_20240710_230419.pickle')[0]\n",
    "err_dict = pp.unpickle_file(experiment_path/'error_val_results_20240711_213911.pickle')[0]"
   ]
  },
  {
   "cell_type": "code",
   "execution_count": 4,
   "metadata": {},
   "outputs": [],
   "source": [
    "err_val = err_dict[\"err_val\"]\n",
    "tikhs = err_dict[\"tikhs\"]"
   ]
  },
  {
   "cell_type": "code",
   "execution_count": 5,
   "metadata": {},
   "outputs": [
    {
     "data": {
      "text/plain": [
       "[<matplotlib.lines.Line2D at 0x256a0d3ca30>]"
      ]
     },
     "execution_count": 5,
     "metadata": {},
     "output_type": "execute_result"
    },
    {
     "data": {
      "image/png": "[encoded data removed]",
      "text/plain": [
       "<Figure size 640x480 with 1 Axes>"
      ]
     },
     "metadata": {},
     "output_type": "display_data"
    }
   ],
   "source": [
    "plt.plot(tikhs, np.mean(err_val, axis=0))"
   ]
  },
  {
   "cell_type": "code",
   "execution_count": 16,
   "metadata": {},
   "outputs": [
    {
     "data": {
      "text/plain": [
       "(array([13], dtype=int64), array([6], dtype=int64))"
      ]
     },
     "execution_count": 16,
     "metadata": {},
     "output_type": "execute_result"
    }
   ],
   "source": [
    "np.where(err_val == np.min(err_val))"
   ]
  },
  {
   "cell_type": "code",
   "execution_count": 17,
   "metadata": {},
   "outputs": [
    {
     "data": {
      "text/plain": [
       "0.057216388887479895"
      ]
     },
     "execution_count": 17,
     "metadata": {},
     "output_type": "execute_result"
    }
   ],
   "source": [
    "err_val[13,6]"
   ]
  },
  {
   "cell_type": "code",
   "execution_count": 18,
   "metadata": {},
   "outputs": [
    {
     "data": {
      "text/plain": [
       "-4.0"
      ]
     },
     "execution_count": 18,
     "metadata": {},
     "output_type": "execute_result"
    }
   ],
   "source": [
    "tikhs[6]"
   ]
  }
 ],
 "metadata": {
  "kernelspec": {
   "display_name": "env",
   "language": "python",
   "name": "python3"
  },
  "language_info": {
   "codemirror_mode": {
    "name": "ipython",
    "version": 3
   },
   "file_extension": ".py",
   "mimetype": "text/x-python",
   "name": "python",
   "nbconvert_exporter": "python",
   "pygments_lexer": "ipython3",
   "version": "3.9.13"
  }
 },
 "nbformat": 4,
 "nbformat_minor": 2
}
